{
 "cells": [
  {
   "cell_type": "code",
   "execution_count": null,
   "id": "a9530317-2fed-44be-ab98-f79afcd05508",
   "metadata": {},
   "outputs": [],
   "source": [
    "Question1\n",
    "numbe=int(input(\"Enter a number\"))\n",
    "if numbe %2==0:\n",
    "    print(\"The number is even\") \n",
    "else:\n",
    "    print('the number is odd')"
   ]
  },
  {
   "cell_type": "markdown",
   "id": "9333ccde-53a6-4d74-8503-94bdaa6772e1",
   "metadata": {},
   "source": [
    "Question2\n",
    "age=int(input(\"Enter a number\"))\n",
    "if age>=18:\n",
    "    print(\"The user is eligible to vote \") \n",
    "else:\n",
    "    print('The user is not eligible to vote')\n"
   ]
  },
  {
   "cell_type": "markdown",
   "id": "17d8dc4e-8d00-4564-bece-6e31c91bb0d0",
   "metadata": {},
   "source": [
    "Question3\n",
    "num1=int(input(\"Enter a number\"))\n",
    "num2=int(input(\"Enter a number\"))\n",
    "if num1>num2:\n",
    "    print(f\"{num1} is greater than {num2}\")\n",
    "else:\n",
    "     print(f\"{num2} is greater than {num1}\")\n",
    "    "
   ]
  },
  {
   "cell_type": "markdown",
   "id": "97762c5c-ef84-46cb-b893-1c7a70def410",
   "metadata": {},
   "source": [
    "Question4\n",
    "num=int(input(\"Enter a number\"))\n",
    "if num>0:\n",
    "    print(f\"{num} is positive\")\n",
    "elif num<0:\n",
    "    print(f\"{num} is negative\")\n",
    "else:\n",
    "    print(f\"given number is zero\")"
   ]
  },
  {
   "cell_type": "markdown",
   "id": "98b6dcf9-48cc-480f-8ed1-9a0c7e3b3c6c",
   "metadata": {},
   "source": [
    "question5\n",
    "age=int(input(\"Enter a number\"))\n",
    "if age<=12:\n",
    "    print(\"user is a child\")\n",
    "elif age<=19:\n",
    "    print(\"user is a teenager\")\n",
    "elif age<=59:\n",
    "    print(\"user is a Adult\") \n",
    "else:\n",
    "    print(\"user is an old citizen\")\n",
    "    \n"
   ]
  },
  {
   "cell_type": "markdown",
   "id": "ba803c68-2193-44a1-92c3-da7bdb5a9f51",
   "metadata": {},
   "source": [
    "question6\n",
    "weight=float(input(\"Enter a number\"))\n",
    "if weight<=18.5:\n",
    "    print(\"user is an underweight\")\n",
    "elif weight<=24.5:\n",
    "    print(\"user is a normal weight\")\n",
    "elif weight<=29.9:\n",
    "    print(\"user is an overweight\") \n",
    "else:\n",
    "    print(\"user is an old obesity\")"
   ]
  },
  {
   "cell_type": "markdown",
   "id": "3590285a-d55b-4f27-8034-ffcddbdbadf2",
   "metadata": {},
   "source": [
    "ques8\n",
    "# Input marks for three subjects\n",
    "subject1 = float(input(\"Enter marks for Subject 1: \"))\n",
    "subject2 = float(input(\"Enter marks for Subject 2: \"))\n",
    "subject3 = float(input(\"Enter marks for Subject 3: \"))\n",
    "\n",
    "# Calculate the average marks\n",
    "average = (subject1 + subject2 + subject3) / 3\n",
    "\n",
    "# Determine the grade based on the average\n",
    "if 90 <= average <= 100:\n",
    "    grade = \"A\"\n",
    "elif 80 <= average < 90:\n",
    "    grade = \"B\"\n",
    "elif 70 <= average < 80:\n",
    "    grade = \"C\"\n",
    "elif 60 <= average < 70:\n",
    "    grade = \"D\"\n",
    "elif 0 <= average < 60:\n",
    "    grade = \"F\"\n",
    "else:\n",
    "    grade = \"Invalid marks entered.\"\n",
    "\n",
    "# Display the average and grade\n",
    "print(f\"Average Marks: {average:.2f}\")\n",
    "print(f\"Grade: {grade}\")\n",
    "\n",
    "\n",
    "\n"
   ]
  },
  {
   "cell_type": "markdown",
   "id": "19518104-666b-4294-aa59-68536b45d824",
   "metadata": {},
   "source": [
    "question9\n",
    "import math\n",
    "\n",
    "# Prompt the user for input\n",
    "print(\"Quadratic Equation: ax² + bx + c = 0\")\n",
    "a = float(input(\"Enter the coefficient a (a ≠ 0): \"))\n",
    "b = float(input(\"Enter the coefficient b: \"))\n",
    "c = float(input(\"Enter the constant c: \"))\n",
    "\n",
    "# Check if 'a' is zero\n",
    "if a == 0:\n",
    "    print(\"Coefficient 'a' cannot be zero for a quadratic equation.\")\n",
    "else:\n",
    "    # Calculate the discriminant\n",
    "    discriminant = b**2 - 4*a*c\n",
    "    \n",
    "    # Check the nature of the roots\n",
    "    if discriminant > 0:\n",
    "        # Two distinct real roots\n",
    "        root1 = (-b + math.sqrt(discriminant)) / (2*a)\n",
    "        root2 = (-b - math.sqrt(discriminant)) / (2*a)\n",
    "        print(f\"The equation has two distinct real roots: {root1:.2f} and {root2:.2f}\")\n",
    "    elif discriminant == 0:\n",
    "        # Two equal real roots\n",
    "        root = -b / (2*a)\n",
    "        print(f\"The equation has two equal real roots: {root:.2f}\")\n",
    "    else:\n",
    "        # Two complex roots\n",
    "        real_part = -b / (2*a)\n",
    "        imaginary_part = math.sqrt(-discriminant) / (2*a)\n",
    "        print(f\"The equation has two complex roots: {real_part:.2f} + {imaginary_part:.2f}i and {real_part:.2f} - {imaginary_part:.2f}i\")\n"
   ]
  },
  {
   "cell_type": "code",
   "execution_count": 31,
   "id": "7f1f99ff-8cf5-42e3-8707-ff28af60e778",
   "metadata": {},
   "outputs": [
    {
     "name": "stdin",
     "output_type": "stream",
     "text": [
      "Enter the first number:  33\n",
      "Enter the second number:  44\n",
      "Enter the third number:  32\n"
     ]
    },
    {
     "name": "stdout",
     "output_type": "stream",
     "text": [
      "The numbers in ascending order are: [32.0, 33.0, 44.0]\n"
     ]
    }
   ],
   "source": [
    "# Prompt the user to input three numbers\n",
    "num1 = float(input(\"Enter the first number: \"))\n",
    "num2 = float(input(\"Enter the second number: \"))\n",
    "num3 = float(input(\"Enter the third number: \"))\n",
    "\n",
    "# Store the numbers in a list\n",
    "numbers = [num1, num2, num3]\n",
    "\n",
    "# Sort the list in ascending order\n",
    "numbers.sort()\n",
    "\n",
    "# Print the sorted numbers\n",
    "print(\"The numbers in ascending order are:\", numbers)\n"
   ]
  },
  {
   "cell_type": "markdown",
   "id": "63df5258-6fc5-40a6-9918-4fc2305b9642",
   "metadata": {},
   "source": [
    "ques 13\n",
    "year=int(input(\"Enter the year to determine wether it is a leap year or not\"))\n",
    "if year%4==0:\n",
    "    print(\"year is a leap year\")\n",
    "else:\n",
    "    print(\"year is not a leap year\")"
   ]
  },
  {
   "cell_type": "markdown",
   "id": "a653a32c-816b-4b30-82ce-fc8e516463b6",
   "metadata": {},
   "source": [
    "question14\n",
    "# Prompt the user to input the number of calls\n",
    "calls = int(input(\"Enter the number of calls made: \"))\n",
    "\n",
    "# Calculate the bill based on the number of calls\n",
    "if calls <= 100:\n",
    "    bill = 200\n",
    "elif calls <= 150:\n",
    "    bill = 200 + (calls - 100) * 0.60\n",
    "elif calls <= 200:\n",
    "    bill = 200 + (50 * 0.60) + (calls - 150) * 0.50\n",
    "else:\n",
    "    bill = 200 + (50 * 0.60) + (50 * 0.50) + (calls - 200) * 0.40\n",
    "\n",
    "# Display the bill\n",
    "print(f\"Your monthly telephone bill is: Rs. {bill:.2f}\")\n"
   ]
  },
  {
   "cell_type": "markdown",
   "id": "6f57bf87-0552-4f21-a9b6-d2f9d8fe57e9",
   "metadata": {},
   "source": [
    "heading"
   ]
  },
  {
   "cell_type": "code",
   "execution_count": null,
   "id": "f1cc8f79-e1a8-41e5-8ad1-321d8065ad68",
   "metadata": {},
   "outputs": [],
   "source": []
  }
 ],
 "metadata": {
  "kernelspec": {
   "display_name": "Python 3 (ipykernel)",
   "language": "python",
   "name": "python3"
  },
  "language_info": {
   "codemirror_mode": {
    "name": "ipython",
    "version": 3
   },
   "file_extension": ".py",
   "mimetype": "text/x-python",
   "name": "python",
   "nbconvert_exporter": "python",
   "pygments_lexer": "ipython3",
   "version": "3.13.0"
  }
 },
 "nbformat": 4,
 "nbformat_minor": 5
}
