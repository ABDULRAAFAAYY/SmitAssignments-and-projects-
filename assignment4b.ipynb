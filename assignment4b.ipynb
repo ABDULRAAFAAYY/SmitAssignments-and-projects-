{
 "cells": [
  {
   "cell_type": "code",
   "execution_count": 18,
   "id": "478e26d4-9506-4159-9210-6ef2b2fca84c",
   "metadata": {},
   "outputs": [
    {
     "name": "stdin",
     "output_type": "stream",
     "text": [
      "Enter a list of elements separated by spaces:  qwrfsd,dvfsbv,fergdfd,dvbfdqe,adadaa\n"
     ]
    },
    {
     "name": "stdout",
     "output_type": "stream",
     "text": [
      "Alternate elements of the list are:\n",
      "['qwrfsd,dvfsbv,fergdfd,dvbfdqe,adadaa']\n"
     ]
    }
   ],
   "source": [
    "#ques1\n",
    "user_input = input(\"Enter a list of elements separated by spaces: \")\n",
    "\n",
    "\n",
    "user_list = user_input.split()\n",
    "\n",
    "\n",
    "print(\"Alternate elements of the list are:\")\n",
    "print(user_list[::2])\n"
   ]
  },
  {
   "cell_type": "code",
   "execution_count": 35,
   "id": "e524a3db-4dc2-4719-93ca-155e010895f5",
   "metadata": {},
   "outputs": [
    {
     "name": "stdin",
     "output_type": "stream",
     "text": [
      "how many data points you want  2\n",
      "Enter a list of elements separated by spaces:  a\n",
      "Enter a list of elements separated by spaces:  b\n"
     ]
    },
    {
     "name": "stdout",
     "output_type": "stream",
     "text": [
      "['a', 'b']\n",
      "['b', 'a']\n"
     ]
    }
   ],
   "source": [
    "#ques2\n",
    "useree=[]\n",
    "user = int(input(\"how many data points you want \"))\n",
    "for i in range(user):\n",
    "    user_input = input(\"Enter a list of elements separated by spaces: \")\n",
    "    useree.append(user_input)\n",
    "print(useree)\n",
    "new_list = useree[::-1]\n",
    "print(new_list)\n",
    "\n"
   ]
  },
  {
   "cell_type": "code",
   "execution_count": 42,
   "id": "eeaae884-9fd3-43bb-899b-1a5edf46417c",
   "metadata": {},
   "outputs": [
    {
     "name": "stdin",
     "output_type": "stream",
     "text": [
      "Enter the number to find the highest 33\n",
      "Enter the number to find the highest 34\n",
      "Enter the number to find the highest 35\n"
     ]
    },
    {
     "name": "stdout",
     "output_type": "stream",
     "text": [
      "The highest number is35\n"
     ]
    }
   ],
   "source": [
    "#ques3\n",
    "userli=[]\n",
    "for i in range(3):\n",
    "    num=int(input(\"Enter the number to find the highest\"))\n",
    "    userli.append(num)\n",
    "highest_num=userli[0]\n",
    "for num in userli:\n",
    "    if num>highest_num:\n",
    "           highest_num=num\n",
    "print(f\"The highest number is{highest_num}\")    "
   ]
  },
  {
   "cell_type": "code",
   "execution_count": 52,
   "id": "c9c8a145-5955-449e-9d5c-28c403e690cb",
   "metadata": {},
   "outputs": [
    {
     "name": "stdout",
     "output_type": "stream",
     "text": [
      "['asis', 'asad', 'asas', 'aass']\n"
     ]
    }
   ],
   "source": [
    "#ques4\n",
    "userlisting=['asad','asas','aass','asis']\n",
    "bhae=userlisting[-1:] + userlisting[:-1]\n",
    "print(bhae)\n"
   ]
  },
  {
   "cell_type": "code",
   "execution_count": 61,
   "id": "bbe4b6ea-826d-4468-a77d-748e57f84dce",
   "metadata": {},
   "outputs": [
    {
     "name": "stdin",
     "output_type": "stream",
     "text": [
      "tell the word to delete tabinda\n"
     ]
    },
    {
     "name": "stdout",
     "output_type": "stream",
     "text": [
      "The tabinda is deleted\n"
     ]
    }
   ],
   "source": [
    "#ques5\n",
    "word=['harmain','M.ali','tabinda','hamza']\n",
    "wordtodel=input(\"tell the word to delete\").lower()\n",
    "if wordtodel in word:\n",
    "    word.remove(wordtodel)\n",
    "    print(f\"The {wordtodel} is deleted\")\n",
    "else:\n",
    "    print(\"The word does not exist in the list\")"
   ]
  },
  {
   "cell_type": "code",
   "execution_count": null,
   "id": "941e6e0f-b427-4a1a-856a-cd4b507cd63c",
   "metadata": {},
   "outputs": [],
   "source": [
    "def multiply_matrice=(A,B):\n",
    "    if len(A[0])!=len(B):\n",
    "        raise ValueError(\"number of coloumn must be equal to to Matrice B\")"
   ]
  }
 ],
 "metadata": {
  "kernelspec": {
   "display_name": "Python 3 (ipykernel)",
   "language": "python",
   "name": "python3"
  },
  "language_info": {
   "codemirror_mode": {
    "name": "ipython",
    "version": 3
   },
   "file_extension": ".py",
   "mimetype": "text/x-python",
   "name": "python",
   "nbconvert_exporter": "python",
   "pygments_lexer": "ipython3",
   "version": "3.13.0"
  }
 },
 "nbformat": 4,
 "nbformat_minor": 5
}
