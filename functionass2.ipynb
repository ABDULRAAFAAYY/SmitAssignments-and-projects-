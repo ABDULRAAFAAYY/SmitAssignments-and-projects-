{
 "cells": [
  {
   "cell_type": "code",
   "execution_count": 20,
   "id": "08e39096-eae3-449d-9b7d-25be6d192693",
   "metadata": {},
   "outputs": [
    {
     "name": "stdout",
     "output_type": "stream",
     "text": [
      "2002, 2009, 2016, 2023, 2037, 2044, 2051, 2058, 2072, 2079, 2086, 2093, 2107, 2114, 2121, 2128, 2142, 2149, 2156, 2163, 2177, 2184, 2191, 2198, 2212, 2219, 2226, 2233, 2247, 2254, 2261, 2268, 2282, 2289, 2296, 2303, 2317, 2324, 2331, 2338, 2352, 2359, 2366, 2373, 2387, 2394, 2401, 2408, 2422, 2429, 2436, 2443, 2457, 2464, 2471, 2478, 2492, 2499, 2506, 2513, 2527, 2534, 2541, 2548, 2562, 2569, 2576, 2583, 2597, 2604, 2611, 2618, 2632, 2639, 2646, 2653, 2667, 2674, 2681, 2688, 2702, 2709, 2716, 2723, 2737, 2744, 2751, 2758, 2772, 2779, 2786, 2793, 2807, 2814, 2821, 2828, 2842, 2849, 2856, 2863, 2877, 2884, 2891, 2898, 2912, 2919, 2926, 2933, 2947, 2954, 2961, 2968, 2982, 2989, 2996\n"
     ]
    }
   ],
   "source": [
    "#ques1\n",
    "def find_numbers():\n",
    "    return \", \".join(str(i) for i in range(2000, 3000) if i % 7 == 0 and i % 5 != 0)\n",
    "print(find_numbers())"
   ]
  },
  {
   "cell_type": "code",
   "execution_count": 17,
   "id": "5b7b39d9-3f64-47b6-aff0-747604f1cb1b",
   "metadata": {},
   "outputs": [],
   "source": [
    "#"
   ]
  },
  {
   "cell_type": "code",
   "execution_count": 36,
   "id": "1211af82-b5cb-475e-b60a-223fdeb7f7b2",
   "metadata": {},
   "outputs": [
    {
     "name": "stdin",
     "output_type": "stream",
     "text": [
      "Enter a number 32\n"
     ]
    },
    {
     "name": "stdout",
     "output_type": "stream",
     "text": [
      "9\n"
     ]
    }
   ],
   "source": [
    "#ques2\n",
    "def pie():\n",
    "    a=50\n",
    "    b=30\n",
    "    c_values=(input(\"Enter a number\").split(','))\n",
    "    result=[int(((2 * a * b) / int(c)) ** 0.5)for c in c_values]\n",
    "    return ','.join(map(str,result))\n",
    "print(pie())    "
   ]
  },
  {
   "cell_type": "code",
   "execution_count": 40,
   "id": "bd478281-b9e8-4f2e-88c7-20d8de2ae834",
   "metadata": {},
   "outputs": [],
   "source": [
    "#ques3\n",
    "def sortedword():\n",
    "    word=input(\"Enter comma seperated word \").split(',')\n",
    "    sorted_word=sorted(word)\n",
    "    return ','.join(sorted_word)\n",
    "  "
   ]
  },
  {
   "cell_type": "code",
   "execution_count": 44,
   "id": "36057e8b-dfb8-4689-b7a3-a623af949b19",
   "metadata": {},
   "outputs": [
    {
     "name": "stdin",
     "output_type": "stream",
     "text": [
      "Enter comma seperated word  rafay,hamza,ali,yasir,abdullah,mursaleen\n"
     ]
    },
    {
     "name": "stdout",
     "output_type": "stream",
     "text": [
      "abdullah,ali,hamza,mursaleen,rafay,yasir\n"
     ]
    }
   ],
   "source": [
    "print(sortedword()) \n",
    "\n"
   ]
  },
  {
   "cell_type": "code",
   "execution_count": 47,
   "id": "783e947b-d13b-4c80-9c0a-355d8c176cc2",
   "metadata": {},
   "outputs": [],
   "source": [
    "#ques4\n",
    "def capa():\n",
    "    capatal=input(\"enter a sentence to make it capatalize\")\n",
    "    capitalsent=capatal.upper()\n",
    "    return (capitalsent)"
   ]
  },
  {
   "cell_type": "code",
   "execution_count": 48,
   "id": "1339fdce-2b73-4707-b7a4-576c17602e13",
   "metadata": {},
   "outputs": [
    {
     "name": "stdin",
     "output_type": "stream",
     "text": [
      "enter a sentence to make it capatalize rafay bhai parhlo ab\n"
     ]
    },
    {
     "name": "stdout",
     "output_type": "stream",
     "text": [
      "RAFAY BHAI PARHLO AB\n"
     ]
    }
   ],
   "source": [
    "print(capa())"
   ]
  },
  {
   "cell_type": "code",
   "execution_count": 63,
   "id": "a5f224a4-7713-4d7f-984c-19004e0f9f6d",
   "metadata": {},
   "outputs": [],
   "source": [
    "#ques5\n",
    "def vowel():\n",
    "    vowels=['a','e','i','o','u']\n",
    "    sentence=str(input(\"ENTERR A SENTENCE TO FIND THE NUMBER OF VOWELS IN IT\")).lower()\n",
    "    counts = {v: sentence.count(v) for v in vowels}\n",
    "    for v,count in counts.items():\n",
    "        print(f\"{v} is {count} times in this sentence\")\n",
    "        \n",
    "            \n",
    "    "
   ]
  },
  {
   "cell_type": "code",
   "execution_count": 64,
   "id": "c90c7d0e-6e7e-4674-b84d-2eee9af54400",
   "metadata": {},
   "outputs": [
    {
     "name": "stdin",
     "output_type": "stream",
     "text": [
      "ENTERR A SENTENCE TO FIND THE NUMBER OF VOWELS IN IT practise makes a man mature and perfect enough\n"
     ]
    },
    {
     "name": "stdout",
     "output_type": "stream",
     "text": [
      "a is 6 times in this sentence\n",
      "e is 6 times in this sentence\n",
      "i is 1 times in this sentence\n",
      "o is 1 times in this sentence\n",
      "u is 2 times in this sentence\n"
     ]
    }
   ],
   "source": [
    "vowel()"
   ]
  },
  {
   "cell_type": "code",
   "execution_count": 75,
   "id": "2d1c7ee4-ae20-4a4a-9ba0-51ebc261b922",
   "metadata": {},
   "outputs": [],
   "source": [
    "#ques6\n",
    "def list_even():\n",
    "    evenlist=[]\n",
    "    oddlist=[]\n",
    "    for i in range(2000,3000):\n",
    "        if i%2==0:\n",
    "            evenlist.append(i)\n",
    "    print(evenlist)\n",
    "        \n",
    "            "
   ]
  },
  {
   "cell_type": "code",
   "execution_count": 76,
   "id": "b8beaa87-e48e-42a8-8b3e-b82ef7732ac2",
   "metadata": {},
   "outputs": [
    {
     "name": "stdout",
     "output_type": "stream",
     "text": [
      "[2000, 2002, 2004, 2006, 2008, 2010, 2012, 2014, 2016, 2018, 2020, 2022, 2024, 2026, 2028, 2030, 2032, 2034, 2036, 2038, 2040, 2042, 2044, 2046, 2048, 2050, 2052, 2054, 2056, 2058, 2060, 2062, 2064, 2066, 2068, 2070, 2072, 2074, 2076, 2078, 2080, 2082, 2084, 2086, 2088, 2090, 2092, 2094, 2096, 2098, 2100, 2102, 2104, 2106, 2108, 2110, 2112, 2114, 2116, 2118, 2120, 2122, 2124, 2126, 2128, 2130, 2132, 2134, 2136, 2138, 2140, 2142, 2144, 2146, 2148, 2150, 2152, 2154, 2156, 2158, 2160, 2162, 2164, 2166, 2168, 2170, 2172, 2174, 2176, 2178, 2180, 2182, 2184, 2186, 2188, 2190, 2192, 2194, 2196, 2198, 2200, 2202, 2204, 2206, 2208, 2210, 2212, 2214, 2216, 2218, 2220, 2222, 2224, 2226, 2228, 2230, 2232, 2234, 2236, 2238, 2240, 2242, 2244, 2246, 2248, 2250, 2252, 2254, 2256, 2258, 2260, 2262, 2264, 2266, 2268, 2270, 2272, 2274, 2276, 2278, 2280, 2282, 2284, 2286, 2288, 2290, 2292, 2294, 2296, 2298, 2300, 2302, 2304, 2306, 2308, 2310, 2312, 2314, 2316, 2318, 2320, 2322, 2324, 2326, 2328, 2330, 2332, 2334, 2336, 2338, 2340, 2342, 2344, 2346, 2348, 2350, 2352, 2354, 2356, 2358, 2360, 2362, 2364, 2366, 2368, 2370, 2372, 2374, 2376, 2378, 2380, 2382, 2384, 2386, 2388, 2390, 2392, 2394, 2396, 2398, 2400, 2402, 2404, 2406, 2408, 2410, 2412, 2414, 2416, 2418, 2420, 2422, 2424, 2426, 2428, 2430, 2432, 2434, 2436, 2438, 2440, 2442, 2444, 2446, 2448, 2450, 2452, 2454, 2456, 2458, 2460, 2462, 2464, 2466, 2468, 2470, 2472, 2474, 2476, 2478, 2480, 2482, 2484, 2486, 2488, 2490, 2492, 2494, 2496, 2498, 2500, 2502, 2504, 2506, 2508, 2510, 2512, 2514, 2516, 2518, 2520, 2522, 2524, 2526, 2528, 2530, 2532, 2534, 2536, 2538, 2540, 2542, 2544, 2546, 2548, 2550, 2552, 2554, 2556, 2558, 2560, 2562, 2564, 2566, 2568, 2570, 2572, 2574, 2576, 2578, 2580, 2582, 2584, 2586, 2588, 2590, 2592, 2594, 2596, 2598, 2600, 2602, 2604, 2606, 2608, 2610, 2612, 2614, 2616, 2618, 2620, 2622, 2624, 2626, 2628, 2630, 2632, 2634, 2636, 2638, 2640, 2642, 2644, 2646, 2648, 2650, 2652, 2654, 2656, 2658, 2660, 2662, 2664, 2666, 2668, 2670, 2672, 2674, 2676, 2678, 2680, 2682, 2684, 2686, 2688, 2690, 2692, 2694, 2696, 2698, 2700, 2702, 2704, 2706, 2708, 2710, 2712, 2714, 2716, 2718, 2720, 2722, 2724, 2726, 2728, 2730, 2732, 2734, 2736, 2738, 2740, 2742, 2744, 2746, 2748, 2750, 2752, 2754, 2756, 2758, 2760, 2762, 2764, 2766, 2768, 2770, 2772, 2774, 2776, 2778, 2780, 2782, 2784, 2786, 2788, 2790, 2792, 2794, 2796, 2798, 2800, 2802, 2804, 2806, 2808, 2810, 2812, 2814, 2816, 2818, 2820, 2822, 2824, 2826, 2828, 2830, 2832, 2834, 2836, 2838, 2840, 2842, 2844, 2846, 2848, 2850, 2852, 2854, 2856, 2858, 2860, 2862, 2864, 2866, 2868, 2870, 2872, 2874, 2876, 2878, 2880, 2882, 2884, 2886, 2888, 2890, 2892, 2894, 2896, 2898, 2900, 2902, 2904, 2906, 2908, 2910, 2912, 2914, 2916, 2918, 2920, 2922, 2924, 2926, 2928, 2930, 2932, 2934, 2936, 2938, 2940, 2942, 2944, 2946, 2948, 2950, 2952, 2954, 2956, 2958, 2960, 2962, 2964, 2966, 2968, 2970, 2972, 2974, 2976, 2978, 2980, 2982, 2984, 2986, 2988, 2990, 2992, 2994, 2996, 2998]\n"
     ]
    }
   ],
   "source": [
    "list_even()"
   ]
  },
  {
   "cell_type": "code",
   "execution_count": 80,
   "id": "eea7ec8a-56f8-45b2-b694-c7b383a9b19b",
   "metadata": {},
   "outputs": [
    {
     "name": "stdin",
     "output_type": "stream",
     "text": [
      "Enter comma-separated 4-digit binary numbers:  1001,01010,2001,2010\n"
     ]
    },
    {
     "name": "stdout",
     "output_type": "stream",
     "text": [
      "01010, 2001\n"
     ]
    }
   ],
   "source": [
    "#ques7\n",
    "def check_divisible_by_5():\n",
    "    \n",
    "    binary_numbers = input(\"Enter comma-separated 4-digit binary numbers: \").split(\",\")\n",
    "    \n",
    "    \n",
    "    divisible_by_5 = [\n",
    "        num for num in binary_numbers if int(num, 2) % 5 == 0\n",
    "    ]\n",
    "    \n",
    "    \n",
    "    print(\", \".join(divisible_by_5))\n",
    "\n",
    "# Example usage\n",
    "check_divisible_by_5()\n"
   ]
  },
  {
   "cell_type": "code",
   "execution_count": 81,
   "id": "a77cf383-1bc0-4e3b-a9aa-c83259410ea7",
   "metadata": {},
   "outputs": [],
   "source": [
    "#ques8\n",
    "def digit_num():\n",
    "    sentence=input(\"enter a sentence\")\n",
    "    letter= sum(char.isalpha() for char in sentence)\n",
    "    number= sum(char.isdigit() for char in sentence)\n",
    "\n",
    "    print(f\"{letter} times\")\n",
    "    print(f\"{number}times\")\n",
    "    "
   ]
  },
  {
   "cell_type": "code",
   "execution_count": 83,
   "id": "7b0ec8eb-7ad7-42fc-8c7a-5939316793f8",
   "metadata": {},
   "outputs": [
    {
     "name": "stdin",
     "output_type": "stream",
     "text": [
      "enter a sentence hello mic check 123 123\n"
     ]
    },
    {
     "name": "stdout",
     "output_type": "stream",
     "text": [
      "13 times\n",
      "6times\n"
     ]
    }
   ],
   "source": [
    "digit_num()"
   ]
  },
  {
   "cell_type": "code",
   "execution_count": null,
   "id": "3952ede5-8071-48ff-8cf5-322ce883fb5a",
   "metadata": {},
   "outputs": [],
   "source": []
  }
 ],
 "metadata": {
  "kernelspec": {
   "display_name": "Python 3 (ipykernel)",
   "language": "python",
   "name": "python3"
  },
  "language_info": {
   "codemirror_mode": {
    "name": "ipython",
    "version": 3
   },
   "file_extension": ".py",
   "mimetype": "text/x-python",
   "name": "python",
   "nbconvert_exporter": "python",
   "pygments_lexer": "ipython3",
   "version": "3.13.0"
  }
 },
 "nbformat": 4,
 "nbformat_minor": 5
}
