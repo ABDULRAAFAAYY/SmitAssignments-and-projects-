{
 "cells": [
  {
   "cell_type": "code",
   "execution_count": 1,
   "id": "7d44f432-e60a-4bd3-9699-1b6ebd2af485",
   "metadata": {},
   "outputs": [],
   "source": [
    "#ques1\n",
    "def max_num(a,b,c):\n",
    "    if a>b and a>c:\n",
    "        print(f\"{c} is the largest among all\")\n",
    "    elif b>c  and b>a:\n",
    "        print(f\"{b} is the largest among all\")\n",
    "    else:\n",
    "        print(f\"{c} is the largest among all\")"
   ]
  },
  {
   "cell_type": "code",
   "execution_count": 3,
   "id": "5d602ac0-a2ae-4050-9412-001a1a3be983",
   "metadata": {},
   "outputs": [
    {
     "name": "stdout",
     "output_type": "stream",
     "text": [
      "12 is the largest among all\n"
     ]
    }
   ],
   "source": [
    "max_num(10,12,3)"
   ]
  },
  {
   "cell_type": "code",
   "execution_count": 4,
   "id": "c6359608-1dcb-42e4-9e55-4f39bc07936a",
   "metadata": {},
   "outputs": [],
   "source": [
    "#ques2\n",
    "def summing(a,b):\n",
    "    print(a+b)"
   ]
  },
  {
   "cell_type": "code",
   "execution_count": 5,
   "id": "5291f9b9-b52b-4714-8d3a-585a3b4d7eb3",
   "metadata": {},
   "outputs": [
    {
     "name": "stdout",
     "output_type": "stream",
     "text": [
      "15\n"
     ]
    }
   ],
   "source": [
    "summing(12,3)"
   ]
  },
  {
   "cell_type": "code",
   "execution_count": 6,
   "id": "89287941-7567-4630-81aa-f7bc42b59764",
   "metadata": {},
   "outputs": [],
   "source": [
    "#ques3\n",
    "def multiplying(a,b,c,d):\n",
    "    print(a*b*c*d)"
   ]
  },
  {
   "cell_type": "code",
   "execution_count": 8,
   "id": "28245db9-d1c9-46d7-8c3c-36a47bc43cb0",
   "metadata": {},
   "outputs": [
    {
     "name": "stdout",
     "output_type": "stream",
     "text": [
      "-720\n"
     ]
    }
   ],
   "source": [
    "multiplying(12,-3,4,5)"
   ]
  },
  {
   "cell_type": "code",
   "execution_count": 16,
   "id": "8dbce1cc-e962-4eb9-8788-a6f13cebb166",
   "metadata": {},
   "outputs": [],
   "source": [
    "#ques4\n",
    "def rever(a=\"abc123\"):\n",
    "    reverse=a[::-1]\n",
    "    print(reverse)"
   ]
  },
  {
   "cell_type": "code",
   "execution_count": 17,
   "id": "21ff39dc-03e7-4625-8220-e5c09166fd37",
   "metadata": {},
   "outputs": [
    {
     "name": "stdout",
     "output_type": "stream",
     "text": [
      "321cba\n"
     ]
    }
   ],
   "source": [
    "rever()"
   ]
  },
  {
   "cell_type": "code",
   "execution_count": 25,
   "id": "4b3a10d9-6fb5-40c3-a820-9d2298dc5238",
   "metadata": {},
   "outputs": [],
   "source": [
    "#ques5\n",
    "def factorial(a):\n",
    "    factee=1\n",
    "    for i in range(1,a+1):\n",
    "        factee*=i\n",
    "    print(f\"The factorial of {a} is {factee}\")\n",
    "    "
   ]
  },
  {
   "cell_type": "code",
   "execution_count": 26,
   "id": "172e9c72-2492-41e2-8e5f-0f1fde9737be",
   "metadata": {},
   "outputs": [
    {
     "name": "stdout",
     "output_type": "stream",
     "text": [
      "The factorial of 6 is 720\n"
     ]
    }
   ],
   "source": [
    "factorial(6)"
   ]
  },
  {
   "cell_type": "code",
   "execution_count": 27,
   "id": "41a3d6b2-1502-4df5-90d8-0f9e43a51ecb",
   "metadata": {},
   "outputs": [],
   "source": [
    "#ques6\n",
    "def lies(a):\n",
    "    rangestart=3\n",
    "    rangeends=30\n",
    "    if rangestart<=a<=rangeends:\n",
    "        print(f\"{a} lies in the range {rangestart} to {rangeends}\")\n",
    "    else:\n",
    "        print(f\"{a} does not lie under the range {rangestart} to {rangeends}\")"
   ]
  },
  {
   "cell_type": "code",
   "execution_count": 31,
   "id": "f207c84d-a922-4cdb-9896-9cd1630218b9",
   "metadata": {},
   "outputs": [
    {
     "name": "stdout",
     "output_type": "stream",
     "text": [
      "17 lies in the range 3 to 30\n"
     ]
    }
   ],
   "source": [
    "lies(17)"
   ]
  },
  {
   "cell_type": "code",
   "execution_count": 38,
   "id": "da6fa459-57eb-436b-9f25-bd92c058a76a",
   "metadata": {},
   "outputs": [],
   "source": [
    "#ques7\n",
    "def countcase(a):\n",
    "    uppercase=0\n",
    "    lowercase=0\n",
    "    for i in a:\n",
    "        if  i.isupper():\n",
    "            uppercase+=1\n",
    "        elif i.lower():\n",
    "            lowercase+=1\n",
    "    print(f\"THE UPPERCASE COUNT IS {uppercase} and the lowercase count is {lowercase}\")"
   ]
  },
  {
   "cell_type": "code",
   "execution_count": 40,
   "id": "ca4e0c53-7f96-478b-9c6e-fc7045b6b5f2",
   "metadata": {},
   "outputs": [
    {
     "name": "stdout",
     "output_type": "stream",
     "text": [
      "THE UPPERCASE COUNT IS 8 and the lowercase count is 11\n"
     ]
    }
   ],
   "source": [
    "countcase(\"Its BEEN A Long Day\")"
   ]
  },
  {
   "cell_type": "code",
   "execution_count": 41,
   "id": "c5b233f3-54f9-4f9b-a02d-044c3253e9d3",
   "metadata": {},
   "outputs": [],
   "source": [
    "#QUES 8\n",
    "def get_unique_list(lst):\n",
    "    unique_list=[]\n",
    "    for i in lst:\n",
    "        if i not in unique_list:\n",
    "            unique_list.append(i)\n",
    "    print(f\"The new unique list will be {unique_list}\")        "
   ]
  },
  {
   "cell_type": "code",
   "execution_count": 42,
   "id": "b0b7dec1-9911-4597-a9b7-ba65097f3984",
   "metadata": {},
   "outputs": [
    {
     "name": "stdout",
     "output_type": "stream",
     "text": [
      "The new unique list will be [1, 2, 3, 4, 5, 6]\n"
     ]
    }
   ],
   "source": [
    "get_unique_list([1,2,3,3,4,5,4,5,6,5,5])"
   ]
  },
  {
   "cell_type": "code",
   "execution_count": 82,
   "id": "41135e8f-8901-4424-95e3-e0b6a48337a7",
   "metadata": {},
   "outputs": [],
   "source": [
    "#ques9\n",
    "def prime_num(number):\n",
    "    if number <= 1:\n",
    "        return False\n",
    "    for i in range(2, int(number ** 0.5) + 1):\n",
    "        if number % i == 0:\n",
    "            return (f\"{number} is not a prime\")\n",
    "    return (f\"{number} is a prime number\")"
   ]
  },
  {
   "cell_type": "code",
   "execution_count": 86,
   "id": "c3ae965b-1969-4169-9a26-0901848b57b2",
   "metadata": {},
   "outputs": [
    {
     "data": {
      "text/plain": [
       "'27 is not a prime'"
      ]
     },
     "execution_count": 86,
     "metadata": {},
     "output_type": "execute_result"
    }
   ],
   "source": [
    "prime_num(27)"
   ]
  },
  {
   "cell_type": "code",
   "execution_count": 98,
   "id": "3e2330bc-e446-4862-95cb-3ca134da9b62",
   "metadata": {},
   "outputs": [],
   "source": [
    "#ques10\n",
    "def even_num(lst):\n",
    "    even_list=[]\n",
    "    for i in lst:\n",
    "        if i%2==0:\n",
    "            even_list.append(i)\n",
    "    print(f\"The even list will be {even_list}\")        \n",
    "    "
   ]
  },
  {
   "cell_type": "code",
   "execution_count": 99,
   "id": "f00096ae-930d-4a80-844d-f6f9a134da4f",
   "metadata": {},
   "outputs": [
    {
     "name": "stdout",
     "output_type": "stream",
     "text": [
      "The even list will be [2, 4, 6, 8, 10]\n"
     ]
    }
   ],
   "source": [
    "even_num([1,2,3,4,5,6,7,8,9,10])"
   ]
  },
  {
   "cell_type": "code",
   "execution_count": 111,
   "id": "c9937935-fd65-478f-81f0-57ab293a8f97",
   "metadata": {},
   "outputs": [],
   "source": [
    "#ques11\n",
    "def perfect_num(number):\n",
    "    if number<=0:\n",
    "        return(\"wrong input\")\n",
    "    for b in range(1,number//2):\n",
    "        if number%b==0:\n",
    "            print(f\"{number} is a perfect number\")\n",
    "        else:\n",
    "            print(f\"{number} is not a perfect number\")"
   ]
  },
  {
   "cell_type": "code",
   "execution_count": 106,
   "id": "58f4c8ea-52e8-4b8f-823f-1783507f7999",
   "metadata": {},
   "outputs": [
    {
     "name": "stdout",
     "output_type": "stream",
     "text": [
      "5 is a perfect number\n"
     ]
    }
   ],
   "source": [
    "perfect_num(5)"
   ]
  },
  {
   "cell_type": "code",
   "execution_count": 114,
   "id": "6f8e7d01-0260-4ceb-a8bc-41b6051897de",
   "metadata": {},
   "outputs": [],
   "source": [
    "#ques12\n",
    "def palindrome(a):\n",
    "    if a[::-1]==a[::1]:\n",
    "        print(\"this is a palindrome word\")\n",
    "    else:\n",
    "        print(\"this is not a palindrome word\")"
   ]
  },
  {
   "cell_type": "code",
   "execution_count": 118,
   "id": "36631f7b-3dcd-400b-bcee-ac2dbc9a20dd",
   "metadata": {},
   "outputs": [
    {
     "name": "stdout",
     "output_type": "stream",
     "text": [
      "this is a palindrome word\n"
     ]
    }
   ],
   "source": [
    "palindrome(\"nursesrun\")"
   ]
  },
  {
   "cell_type": "code",
   "execution_count": null,
   "id": "13e981ed-9e16-4312-98ba-5aabb2323ae0",
   "metadata": {},
   "outputs": [],
   "source": []
  }
 ],
 "metadata": {
  "kernelspec": {
   "display_name": "Python 3 (ipykernel)",
   "language": "python",
   "name": "python3"
  },
  "language_info": {
   "codemirror_mode": {
    "name": "ipython",
    "version": 3
   },
   "file_extension": ".py",
   "mimetype": "text/x-python",
   "name": "python",
   "nbconvert_exporter": "python",
   "pygments_lexer": "ipython3",
   "version": "3.13.0"
  }
 },
 "nbformat": 4,
 "nbformat_minor": 5
}
